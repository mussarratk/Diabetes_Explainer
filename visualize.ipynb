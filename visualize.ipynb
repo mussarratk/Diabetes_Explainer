{
 "cells": [
  {
   "cell_type": "markdown",
   "id": "26dc44ac",
   "metadata": {},
   "source": [
    "# Task 5"
   ]
  },
  {
   "cell_type": "code",
   "execution_count": null,
   "id": "c6adf7bf",
   "metadata": {},
   "outputs": [],
   "source": [
    "%matplotlib inline\n",
    "import pandas as pd\n",
    "import matplotlib.pyplot as plt\n",
    "import numpy as np\n",
    "import seaborn as sns"
   ]
  },
  {
   "cell_type": "code",
   "execution_count": null,
   "id": "a3f46043",
   "metadata": {},
   "outputs": [],
   "source": [
    "df = pd.read_csv('diabetes.csv')"
   ]
  },
  {
   "cell_type": "code",
   "execution_count": null,
   "id": "523af18c",
   "metadata": {},
   "outputs": [],
   "source": [
    "df.head()"
   ]
  },
  {
   "cell_type": "markdown",
   "id": "f08714a9",
   "metadata": {},
   "source": [
    "## Making a categorical variable from numerical input"
   ]
  },
  {
   "cell_type": "markdown",
   "id": "cc722ffa",
   "metadata": {},
   "source": [
    "#### BMI category"
   ]
  },
  {
   "cell_type": "code",
   "execution_count": null,
   "id": "db1b0909",
   "metadata": {},
   "outputs": [],
   "source": [
    "def bmi_category(x):\n",
    "    if x < 18.5:\n",
    "        category = 0 # underweight\n",
    "    elif x >= 18.5 and x < 25:\n",
    "        category = 1 # healthy\n",
    "    elif x >=25 and x < 30:\n",
    "        category = 2 # overweight\n",
    "    else:\n",
    "        category = 3 # obese\n",
    "    return category"
   ]
  },
  {
   "cell_type": "code",
   "execution_count": null,
   "id": "fddb658a",
   "metadata": {},
   "outputs": [],
   "source": [
    "df['BMICategory'] = df['BMI'].apply(bmi_category)"
   ]
  },
  {
   "cell_type": "code",
   "execution_count": null,
   "id": "da7c50af",
   "metadata": {},
   "outputs": [],
   "source": [
    "df.head()"
   ]
  },
  {
   "cell_type": "markdown",
   "id": "ed33224e",
   "metadata": {},
   "source": [
    "#### Age category"
   ]
  },
  {
   "cell_type": "code",
   "execution_count": null,
   "id": "2bd5bd01",
   "metadata": {},
   "outputs": [],
   "source": [
    "def age_category(x):\n",
    "    return str(int(np.floor(x/10))) + '0s'"
   ]
  },
  {
   "cell_type": "code",
   "execution_count": null,
   "id": "ccaa4a06",
   "metadata": {},
   "outputs": [],
   "source": [
    "df['AgeCategory'] = df['Age'].apply(age_category)"
   ]
  },
  {
   "cell_type": "code",
   "execution_count": null,
   "id": "48b065c7",
   "metadata": {},
   "outputs": [],
   "source": [
    "df.head()"
   ]
  },
  {
   "cell_type": "markdown",
   "id": "51563c94",
   "metadata": {},
   "source": [
    "## Visualizing categorical variables"
   ]
  },
  {
   "cell_type": "markdown",
   "id": "6e8ce815",
   "metadata": {},
   "source": [
    "### Pie chart"
   ]
  },
  {
   "cell_type": "code",
   "execution_count": null,
   "id": "ee00b664",
   "metadata": {
    "scrolled": true
   },
   "outputs": [],
   "source": [
    "labels = ['underweight','healthy','overweight','obese']\n",
    "plt.figure(figsize=(6, 6))\n",
    "df.groupby('BMICategory').size().plot(kind = 'pie', labels = labels, autopct='%.2f%%', textprops={'size': 'x-large'}); "
   ]
  },
  {
   "cell_type": "code",
   "execution_count": null,
   "id": "50026303",
   "metadata": {},
   "outputs": [],
   "source": [
    "# Comparison with previously made histogram\n",
    "df['BMI'].hist();"
   ]
  },
  {
   "cell_type": "markdown",
   "id": "b90ab051",
   "metadata": {},
   "source": [
    "### Bar chart"
   ]
  },
  {
   "cell_type": "code",
   "execution_count": null,
   "id": "dcebaf9d",
   "metadata": {},
   "outputs": [],
   "source": [
    "plt.figure(figsize=(6, 6))\n",
    "df.groupby('AgeCategory').size().plot(kind = 'bar');"
   ]
  },
  {
   "cell_type": "code",
   "execution_count": null,
   "id": "e4665c3f",
   "metadata": {},
   "outputs": [],
   "source": [
    "sns.countplot(x=\"BMICategory\", data=df);"
   ]
  },
  {
   "cell_type": "markdown",
   "id": "878220ee",
   "metadata": {},
   "source": [
    "# Task 6"
   ]
  },
  {
   "cell_type": "markdown",
   "id": "ee0b7849",
   "metadata": {},
   "source": [
    "## Visualize age and bmi relationship"
   ]
  },
  {
   "cell_type": "code",
   "execution_count": null,
   "id": "33d3429b",
   "metadata": {},
   "outputs": [],
   "source": [
    "plt.figure(figsize=(10, 8))\n",
    "plt.scatter(df['Age'],df['BMI'])\n",
    "plt.show()"
   ]
  },
  {
   "cell_type": "code",
   "execution_count": null,
   "id": "22468a9e",
   "metadata": {},
   "outputs": [],
   "source": [
    "crosstab = pd.crosstab(df['AgeCategory'],df['BMICategory'])"
   ]
  },
  {
   "cell_type": "code",
   "execution_count": null,
   "id": "20972559",
   "metadata": {},
   "outputs": [],
   "source": [
    "crosstab"
   ]
  },
  {
   "cell_type": "code",
   "execution_count": null,
   "id": "d943f5a1",
   "metadata": {
    "scrolled": false
   },
   "outputs": [],
   "source": [
    "crosstab.plot(kind='bar', stacked=False, title='Grouped Bar Graph with dataframe', figsize=(12,8));"
   ]
  },
  {
   "cell_type": "code",
   "execution_count": null,
   "id": "b37f2125",
   "metadata": {},
   "outputs": [],
   "source": [
    "crosstab.plot(kind='bar',stacked=True, title='Grouped Bar Graph with dataframe', figsize=(12,8));"
   ]
  },
  {
   "cell_type": "markdown",
   "id": "ed45477c",
   "metadata": {},
   "source": [
    "### Visualize diabetes and age"
   ]
  },
  {
   "cell_type": "markdown",
   "id": "9cd6d165",
   "metadata": {},
   "source": [
    "#### Diabetic people of each age category"
   ]
  },
  {
   "cell_type": "code",
   "execution_count": null,
   "id": "114e06bd",
   "metadata": {},
   "outputs": [],
   "source": [
    "df.groupby(['AgeCategory','Diabetic']).size()"
   ]
  },
  {
   "cell_type": "code",
   "execution_count": null,
   "id": "ff34ff4d",
   "metadata": {},
   "outputs": [],
   "source": [
    "table = pd.crosstab(df['AgeCategory'],df['Diabetic'],margins = False)\n",
    "table.plot(kind='bar', stacked=False, title='Grouped Bar Graph with dataframe', figsize=(12,8));"
   ]
  },
  {
   "cell_type": "code",
   "execution_count": null,
   "id": "db583cc8",
   "metadata": {},
   "outputs": [],
   "source": [
    "# pandas dataframe query\n",
    "df[(df['Diabetic']==1) & (df['Age']>=70)]"
   ]
  },
  {
   "cell_type": "markdown",
   "id": "c8377b71",
   "metadata": {},
   "source": [
    "#### Violin plot"
   ]
  },
  {
   "cell_type": "code",
   "execution_count": null,
   "id": "ccaf3e86",
   "metadata": {},
   "outputs": [],
   "source": [
    "sns.set(rc = {'figure.figsize':(12,6)})\n",
    "violin = sns.violinplot(data=df, hue='Diabetic', y='Age', x='BMICategory', split=True)"
   ]
  },
  {
   "cell_type": "code",
   "execution_count": null,
   "id": "50178b71",
   "metadata": {},
   "outputs": [],
   "source": [
    "sns.set(rc = {'figure.figsize':(12,6)})\n",
    "violin = sns.violinplot(data=df, hue='Diabetic', y='BMI', x='AgeCategory', split=True)"
   ]
  },
  {
   "cell_type": "code",
   "execution_count": null,
   "id": "2c007dfb",
   "metadata": {},
   "outputs": [],
   "source": []
  }
 ],
 "metadata": {
  "kernelspec": {
   "display_name": "Python 3.8 - AzureML",
   "language": "python",
   "name": "python38-azureml"
  },
  "language_info": {
   "codemirror_mode": {
    "name": "ipython",
    "version": 3
   },
   "file_extension": ".py",
   "mimetype": "text/x-python",
   "name": "python",
   "nbconvert_exporter": "python",
   "pygments_lexer": "ipython3",
   "version": "3.8.5"
  }
 },
 "nbformat": 4,
 "nbformat_minor": 5
}
