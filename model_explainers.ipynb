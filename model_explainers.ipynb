{
 "cells": [
  {
   "cell_type": "markdown",
   "id": "f5a1df31",
   "metadata": {},
   "source": [
    "#### Prepare dataset for training a model"
   ]
  },
  {
   "cell_type": "code",
   "execution_count": null,
   "id": "4b7a4d99-2099-4994-83a2-e7c743295a56",
   "metadata": {},
   "outputs": [],
   "source": [
    "pip install scikit-learn"
   ]
  },
  {
   "cell_type": "code",
   "execution_count": 3,
   "id": "a9c33fa1-452f-48a5-9ae5-1fa064f0c801",
   "metadata": {},
   "outputs": [],
   "source": [
    "# Import libraries\n",
    "import pandas as pd\n",
    "import numpy as np\n",
    "from sklearn.model_selection import train_test_split\n",
    "from sklearn.linear_model import LogisticRegression\n",
    "from sklearn.metrics import roc_auc_score"
   ]
  },
  {
   "cell_type": "code",
   "execution_count": 4,
   "id": "dc4af921",
   "metadata": {},
   "outputs": [],
   "source": [
    "# load the diabetes dataset\n",
    "diabetes = pd.read_csv('diabetes.csv')\n",
    "\n",
    "features = ['Pregnancies','PlasmaGlucose','DiastolicBloodPressure','TricepsThickness','SerumInsulin','BMI','DiabetesPedigree','Age']\n",
    "\n",
    "# Separate features and labels\n",
    "X, y = diabetes[features].values, diabetes['Diabetic'].values\n",
    "\n",
    "# Split data into training set and test set\n",
    "X_train, X_test, y_train, y_test = train_test_split(X, y, test_size=0.30, random_state=0)"
   ]
  },
  {
   "cell_type": "markdown",
   "id": "cc9ecbc2",
   "metadata": {},
   "source": [
    "#### Train a model"
   ]
  },
  {
   "cell_type": "code",
   "execution_count": 5,
   "id": "44d5a9ee",
   "metadata": {
    "scrolled": true
   },
   "outputs": [
    {
     "name": "stdout",
     "output_type": "stream",
     "text": [
      "Accuracy: 0.774\n",
      "AUC: 0.8482805114682325\n"
     ]
    }
   ],
   "source": [
    "# Set regularization hyperparameter\n",
    "reg = 0.01\n",
    "\n",
    "# Train a logistic regression model\n",
    "model = LogisticRegression(C=1/reg, solver=\"liblinear\").fit(X_train, y_train)\n",
    "\n",
    "# calculate accuracy\n",
    "y_hat = model.predict(X_test)\n",
    "acc = np.average(y_hat == y_test)\n",
    "print('Accuracy:', acc)\n",
    "\n",
    "# calculate AUC\n",
    "y_scores = model.predict_proba(X_test)\n",
    "auc = roc_auc_score(y_test,y_scores[:,1])\n",
    "print('AUC: ' + str(auc))"
   ]
  },
  {
   "cell_type": "markdown",
   "id": "248ff5ae",
   "metadata": {},
   "source": [
    "#### Use an explainer\n",
    "    -Model explainers use statistical techniques to calculate feature importance.\n",
    "    -Explainers work by evaluating data set of feature cases and the labels the model predicts for them.\n",
    "    -Global feature importance provides a general comparison of the extent to which each feature in the dataset influences   prediction.\n",
    "    -Local feature importance measures the influence of each feature value for a specific individual prediction."
   ]
  },
  {
   "cell_type": "markdown",
   "id": "d1145425",
   "metadata": {},
   "source": [
    "PFIExplainer - a Permutation Feature Importance explainer that analyzes feature importance by shuffling feature values and measuring the impact on prediction performance."
   ]
  },
  {
   "cell_type": "code",
   "execution_count": 6,
   "id": "5c56badf",
   "metadata": {},
   "outputs": [],
   "source": [
    "from sklearn.inspection import permutation_importance\n"
   ]
  },
  {
   "cell_type": "code",
   "execution_count": null,
   "id": "5ba8de6d",
   "metadata": {},
   "outputs": [],
   "source": [
    "pip install interpret\n"
   ]
  },
  {
   "cell_type": "code",
   "execution_count": 13,
   "id": "0cb4e260-8a28-48da-9048-535a954a2d94",
   "metadata": {},
   "outputs": [
    {
     "name": "stdout",
     "output_type": "stream",
     "text": [
      "Name: interpret\n",
      "Version: 0.6.10\n",
      "Summary: Fit interpretable models. Explain blackbox machine learning.\n",
      "Home-page: https://github.com/interpretml/interpret\n",
      "Author: The InterpretML Contributors\n",
      "Author-email: interpret@microsoft.com\n",
      "License: \n",
      "Location: /anaconda/envs/jupyter_env/lib/python3.10/site-packages\n",
      "Requires: interpret-core\n",
      "Required-by: \n",
      "Note: you may need to restart the kernel to use updated packages.\n"
     ]
    }
   ],
   "source": [
    "pip show interpret"
   ]
  },
  {
   "cell_type": "code",
   "execution_count": null,
   "id": "1d873490-4700-4eb9-8bbb-454bd16d6709",
   "metadata": {},
   "outputs": [],
   "source": [
    "import interpret.ext.blackbox as blackbox\n",
    "pfi_explainer = blackbox.PFIExplainer(...)"
   ]
  },
  {
   "cell_type": "code",
   "execution_count": 16,
   "id": "a52a4957-6a7b-4f82-9533-9b5e084be8d9",
   "metadata": {},
   "outputs": [
    {
     "name": "stdout",
     "output_type": "stream",
     "text": [
      "['__builtins__', '__cached__', '__doc__', '__file__', '__loader__', '__name__', '__package__', '__path__', '__spec__', 'blackbox', 'examples', 'extension', 'extension_utils']\n"
     ]
    }
   ],
   "source": [
    "import interpret.ext\n",
    "print(dir(interpret.ext))"
   ]
  },
  {
   "cell_type": "code",
   "execution_count": 18,
   "id": "adb6e090-2481-46d9-9a63-b72b794b5d6c",
   "metadata": {},
   "outputs": [
    {
     "name": "stdout",
     "output_type": "stream",
     "text": [
      "['BLACKBOX_EXTENSION_KEY', 'ExampleBlackboxExplainer', '__builtins__', '__cached__', '__doc__', '__file__', '__loader__', '__name__', '__package__', '__path__', '__spec__', '_is_valid_blackbox_explainer', 'load_class_extensions', 'sys']\n"
     ]
    }
   ],
   "source": [
    "import interpret.ext.blackbox as blackbox\n",
    "print(dir(blackbox))"
   ]
  },
  {
   "cell_type": "code",
   "execution_count": null,
   "id": "729b5813-03c2-46a7-afc0-bcfaadf3c8d5",
   "metadata": {},
   "outputs": [],
   "source": [
    "from interpret.blackbox import PermutationFeatureImportance\n"
   ]
  },
  {
   "cell_type": "code",
   "execution_count": 20,
   "id": "58eac879-f324-4e4b-a221-d2c72da157e8",
   "metadata": {},
   "outputs": [
    {
     "name": "stdout",
     "output_type": "stream",
     "text": [
      "0.6.10\n"
     ]
    }
   ],
   "source": [
    "import interpret\n",
    "print(interpret.__version__)\n",
    "\n"
   ]
  },
  {
   "cell_type": "code",
   "execution_count": null,
   "id": "cba20fd8-973b-464e-afc9-a0a2c426ec27",
   "metadata": {
    "scrolled": true
   },
   "outputs": [],
   "source": [
    "pip install --upgrade interpret[all]\n"
   ]
  },
  {
   "cell_type": "code",
   "execution_count": null,
   "id": "424edbea-c767-4061-a0db-defa6b3ecc28",
   "metadata": {},
   "outputs": [],
   "source": [
    "from interpret.blackbox import PermutationFeatureImportance\n"
   ]
  },
  {
   "cell_type": "code",
   "execution_count": null,
   "id": "c1a2c4ba-30f9-45a9-85ae-d24486bf736c",
   "metadata": {
    "scrolled": true
   },
   "outputs": [],
   "source": [
    "!pip install interpret\n",
    "!pip install interpret-core\n",
    "!pip install interpret-blackbox\n",
    "\n"
   ]
  },
  {
   "cell_type": "code",
   "execution_count": null,
   "id": "9923aa3b-546a-4649-aa30-57770c60be40",
   "metadata": {},
   "outputs": [],
   "source": [
    "from interpret.blackbox import PermutationFeatureImportance\n"
   ]
  },
  {
   "cell_type": "code",
   "execution_count": 26,
   "id": "c3096717-cad4-4ad7-afe6-51c33b43efe7",
   "metadata": {},
   "outputs": [],
   "source": [
    "from sklearn.inspection import permutation_importance"
   ]
  },
  {
   "cell_type": "code",
   "execution_count": 27,
   "id": "65ec63ec-a946-4daa-af9d-f8f2038a122b",
   "metadata": {},
   "outputs": [
    {
     "name": "stdout",
     "output_type": "stream",
     "text": [
      "['BLACKBOX_EXTENSION_KEY', 'ExampleBlackboxExplainer', '__builtins__', '__cached__', '__doc__', '__file__', '__loader__', '__name__', '__package__', '__path__', '__spec__', '_is_valid_blackbox_explainer', 'load_class_extensions', 'sys']\n"
     ]
    }
   ],
   "source": [
    "import interpret.ext.blackbox as bb\n",
    "print(dir(bb))\n"
   ]
  },
  {
   "cell_type": "code",
   "execution_count": null,
   "id": "4a36f3cd-417f-4512-82b3-f66b63561015",
   "metadata": {
    "scrolled": true
   },
   "outputs": [],
   "source": [
    "!pip install interpret-community\n"
   ]
  },
  {
   "cell_type": "code",
   "execution_count": null,
   "id": "a225a334-2498-4199-aab3-fcd4075911a7",
   "metadata": {},
   "outputs": [],
   "source": [
    "from interpret.ext.blackbox import PFIExplainer\n"
   ]
  },
  {
   "cell_type": "code",
   "execution_count": 31,
   "id": "e1e281bc-0a3d-44da-bdac-f4a176c997aa",
   "metadata": {},
   "outputs": [
    {
     "name": "stdout",
     "output_type": "stream",
     "text": [
      "Pregnancies: 0.0705428571428572\n",
      "Age: 0.0663428571428572\n",
      "SerumInsulin: 0.023271428571428644\n",
      "BMI: 0.017542857142857214\n",
      "DiabetesPedigree: 0.012600000000000056\n",
      "TricepsThickness: 0.010342857142857187\n",
      "PlasmaGlucose: 0.00691428571428575\n",
      "DiastolicBloodPressure: 0.0010285714285714787\n"
     ]
    }
   ],
   "source": [
    "from sklearn.inspection import permutation_importance\n",
    "\n",
    "# Run permutation importance\n",
    "result = permutation_importance(model, X_train, y_train, n_repeats=10, random_state=42)\n",
    "\n",
    "# Create dictionary of feature importances\n",
    "global_pfi_feature_importance = {\n",
    "    feature: importance\n",
    "    for feature, importance in zip(features, result.importances_mean)\n",
    "}\n",
    "\n",
    "# Display importances in descending order\n",
    "for feature, score in sorted(global_pfi_feature_importance.items(), key=lambda x: x[1], reverse=True):\n",
    "    print(f\"{feature}: {score}\")\n"
   ]
  },
  {
   "cell_type": "code",
   "execution_count": 12,
   "id": "5cd2fe18",
   "metadata": {},
   "outputs": [
    {
     "ename": "ImportError",
     "evalue": "cannot import name 'PFIExplainer' from 'interpret.ext.blackbox' (/anaconda/envs/jupyter_env/lib/python3.10/site-packages/interpret/ext/blackbox/__init__.py)",
     "output_type": "error",
     "traceback": [
      "\u001b[0;31m---------------------------------------------------------------------------\u001b[0m",
      "\u001b[0;31mImportError\u001b[0m                               Traceback (most recent call last)",
      "Cell \u001b[0;32mIn[12], line 1\u001b[0m\n\u001b[0;32m----> 1\u001b[0m \u001b[38;5;28;01mfrom\u001b[39;00m\u001b[38;5;250m \u001b[39m\u001b[38;5;21;01minterpret\u001b[39;00m\u001b[38;5;21;01m.\u001b[39;00m\u001b[38;5;21;01mext\u001b[39;00m\u001b[38;5;21;01m.\u001b[39;00m\u001b[38;5;21;01mblackbox\u001b[39;00m\u001b[38;5;250m \u001b[39m\u001b[38;5;28;01mimport\u001b[39;00m PFIExplainer\n\u001b[1;32m      4\u001b[0m pfi_explainer \u001b[38;5;241m=\u001b[39m PFIExplainer(model \u001b[38;5;241m=\u001b[39m model,\n\u001b[1;32m      5\u001b[0m                              features\u001b[38;5;241m=\u001b[39mfeatures,\n\u001b[1;32m      6\u001b[0m                              classes\u001b[38;5;241m=\u001b[39m[\u001b[38;5;124m'\u001b[39m\u001b[38;5;124mnon-diabetic\u001b[39m\u001b[38;5;124m'\u001b[39m, \u001b[38;5;124m'\u001b[39m\u001b[38;5;124mdiabetic\u001b[39m\u001b[38;5;124m'\u001b[39m])\n\u001b[1;32m      8\u001b[0m global_pfi_explanation \u001b[38;5;241m=\u001b[39m pfi_explainer\u001b[38;5;241m.\u001b[39mexplain_global(X_train,y_train)\n",
      "\u001b[0;31mImportError\u001b[0m: cannot import name 'PFIExplainer' from 'interpret.ext.blackbox' (/anaconda/envs/jupyter_env/lib/python3.10/site-packages/interpret/ext/blackbox/__init__.py)"
     ]
    }
   ],
   "source": [
    "from interpret.ext.blackbox import PFIExplainer\n",
    "\n",
    "\n",
    "pfi_explainer = PFIExplainer(model = model,\n",
    "                             features=features,\n",
    "                             classes=['non-diabetic', 'diabetic'])\n",
    "\n",
    "global_pfi_explanation = pfi_explainer.explain_global(X_train,y_train)\n",
    "global_pfi_feature_importance = global_pfi_explanation.get_feature_importance_dict()"
   ]
  },
  {
   "cell_type": "code",
   "execution_count": null,
   "id": "71b2ff1e",
   "metadata": {
    "scrolled": true
   },
   "outputs": [],
   "source": [
    "global_pfi_feature_importance"
   ]
  },
  {
   "cell_type": "markdown",
   "id": "600855ea",
   "metadata": {},
   "source": [
    "### If you want to have it conveniently on your Azure Ml Studio interface:"
   ]
  },
  {
   "cell_type": "code",
   "execution_count": 32,
   "id": "47b48855",
   "metadata": {},
   "outputs": [],
   "source": [
    "import azureml.core\n",
    "from azureml.core import Workspace\n",
    "from azureml.core import Run\n",
    "from azureml.core import Experiment"
   ]
  },
  {
   "cell_type": "markdown",
   "id": "5a34ef30",
   "metadata": {},
   "source": [
    "#### Connect to your workspace"
   ]
  },
  {
   "cell_type": "code",
   "execution_count": 33,
   "id": "ca04e9e9",
   "metadata": {},
   "outputs": [],
   "source": [
    "# Load the workspace from the saved config file\n",
    "ws = Workspace.from_config()"
   ]
  },
  {
   "cell_type": "markdown",
   "id": "f37c13c7",
   "metadata": {},
   "source": [
    "#### Set an experiment"
   ]
  },
  {
   "cell_type": "code",
   "execution_count": 34,
   "id": "2f1a98f6",
   "metadata": {},
   "outputs": [],
   "source": [
    "# set experiment\n",
    "experiment = Experiment(workspace=ws, name=\"diabetes\")\n",
    "\n",
    "# Get the experiment run context\n",
    "run = experiment.start_logging()"
   ]
  },
  {
   "cell_type": "code",
   "execution_count": null,
   "id": "fd11ee5a-db1e-4495-acca-b9047ce05b68",
   "metadata": {
    "scrolled": true
   },
   "outputs": [],
   "source": [
    "from azureml.core import Run # Still used for getting the run context in a compute instance\n",
    "\n",
    "# Assuming you have the 'run' object from the Azure ML context\n",
    "run = Run.get_context()\n",
    "\n",
    "import mlflow\n",
    "mlflow.log_dict(global_pfi_feature_importance, \"global_pfi_feature_importance.json\")\n",
    "\n",
    "run.complete()"
   ]
  },
  {
   "cell_type": "code",
   "execution_count": null,
   "id": "31a24cb3-3b8e-412c-9213-45e90a4fbe11",
   "metadata": {},
   "outputs": [],
   "source": [
    "pip install azureml-sdk[interpret]"
   ]
  },
  {
   "cell_type": "code",
   "execution_count": null,
   "id": "a3046c20",
   "metadata": {},
   "outputs": [],
   "source": [
    "from azureml.interpret import ExplanationClient\n",
    "\n",
    "client = ExplanationClient.from_run(run)\n",
    "client.upload_model_explanation(global_pfi_explanation)"
   ]
  },
  {
   "cell_type": "code",
   "execution_count": null,
   "id": "d413a194-3a3a-4703-a137-5e5fc359a1b1",
   "metadata": {},
   "outputs": [],
   "source": [
    "pip show numba"
   ]
  },
  {
   "cell_type": "code",
   "execution_count": null,
   "id": "38baf409-917a-403b-9c66-a3ce2de1a2b9",
   "metadata": {
    "scrolled": true
   },
   "outputs": [],
   "source": [
    "pip install numba==0.56.0"
   ]
  },
  {
   "cell_type": "code",
   "execution_count": null,
   "id": "fb32644f-20d2-4e66-a567-9ff448723f84",
   "metadata": {},
   "outputs": [],
   "source": [
    "from azureml.interpret import ExplanationClient"
   ]
  },
  {
   "cell_type": "code",
   "execution_count": null,
   "id": "fc530847-1401-4069-bbf9-4acee71b1783",
   "metadata": {},
   "outputs": [],
   "source": [
    "pip uninstall numba shap interpret-community -y\n",
    "pip install numba==0.53.1\n",
    "pip install shap==0.39.0\n",
    "pip install interpret-community==0.17.0\n"
   ]
  },
  {
   "cell_type": "code",
   "execution_count": 45,
   "id": "3ea1f00c",
   "metadata": {},
   "outputs": [],
   "source": [
    "run.complete()"
   ]
  },
  {
   "cell_type": "code",
   "execution_count": null,
   "id": "4ca34684",
   "metadata": {},
   "outputs": [],
   "source": []
  },
  {
   "cell_type": "markdown",
   "id": "13534f3e",
   "metadata": {},
   "source": [
    "- Model explainer use statistical technique to calculate the feature importance\n",
    "- Explainers work by evaluating a test dataset of feature cases and labels the model predict for them."
   ]
  }
 ],
 "metadata": {
  "kernelspec": {
   "display_name": "Python 3 (ipykernel)",
   "language": "python",
   "name": "python3"
  },
  "language_info": {
   "codemirror_mode": {
    "name": "ipython",
    "version": 3
   },
   "file_extension": ".py",
   "mimetype": "text/x-python",
   "name": "python",
   "nbconvert_exporter": "python",
   "pygments_lexer": "ipython3",
   "version": "3.10.16"
  }
 },
 "nbformat": 4,
 "nbformat_minor": 5
}
